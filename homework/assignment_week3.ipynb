{
 "cells": [
  {
   "cell_type": "markdown",
   "id": "f2d0ce4b",
   "metadata": {},
   "source": [
    "## Week 3 Assignment\n",
    "\n",
    "#### Task\n",
    "\n",
    "In the course material, a simple convolutional neural network is built, trained and tested to solve the multiclass classification task presented by the CIFAR-10 dataset. To improve the accuracy, you should experiment with pre trained models. Follow the instructions in Chollet's book \"Deep Learning with Python\", 2nd edition, Chapter 8, pp. 225-231: Feature extraction with a pre trained model. Pick one of the pre trained models available with Keras, and discard the Dense classifier top. You should only use the convolution base to preprocess the original images to a new representation, using its predict method. For this modified input data, you should build a simple fully connected classifier, train it, and test it.\n",
    "\n"
   ]
  },
  {
   "cell_type": "markdown",
   "id": "fef692dd",
   "metadata": {},
   "source": [
    "#### Data Preparation"
   ]
  },
  {
   "cell_type": "code",
   "execution_count": 1,
   "id": "4ec2254e",
   "metadata": {},
   "outputs": [],
   "source": [
    "import numpy as np\n",
    "import os\n",
    "\n",
    "from keras.datasets import cifar10\n",
    "from keras.utils import to_categorical\n",
    "from sklearn.model_selection import train_test_split\n",
    "\n",
    "# Load dataset from keras\n",
    "(x_train, y_train), (x_test, y_test) = cifar10.load_data()\n",
    "\n",
    "# Split validation dataset manually\n",
    "x_train, x_val, y_train, y_val = train_test_split(x_train, y_train, test_size=0.2, random_state=77)\n"
   ]
  },
  {
   "cell_type": "markdown",
   "id": "36e503f2",
   "metadata": {},
   "source": [
    "#### Model Creation and Image processing"
   ]
  },
  {
   "cell_type": "code",
   "execution_count": null,
   "id": "1daacf62",
   "metadata": {},
   "outputs": [],
   "source": [
    "from keras.layers import Resizing\n",
    "from keras.applications.vgg16 import preprocess_input\n",
    "from keras.applications import VGG16\n",
    "\n",
    "\n",
    "# Define feature extractor\n",
    "base_model = VGG16(include_top=False, weights=\"imagenet\")\n",
    "base_model.trainable = False\n",
    "\n",
    "# Define a batch processing\n",
    "def process_images_in_batches(images, labels, batch_size=32):\n",
    "    resize_layer = Resizing(224, 224)\n",
    "    features_list = []\n",
    "    total_batches = len(images) // batch_size + (1 if len(images) % batch_size > 0 else 0)\n",
    "    \n",
    "    for i in range(0, len(images), batch_size):\n",
    "        batch_images = images[i:i + batch_size].astype('float32')\n",
    "        \n",
    "        # Resize\n",
    "        batch_resized = resize_layer(batch_images)\n",
    "        \n",
    "        # Preprocess for VGG16\n",
    "        batch_preprocessed = preprocess_input(batch_resized)\n",
    "        \n",
    "        # Extract features\n",
    "        batch_features = base_model.predict(batch_preprocessed, verbose=1)\n",
    "        \n",
    "        # Flatten features\n",
    "        batch_features_flat = batch_features.reshape(batch_features.shape[0], -1)\n",
    "        features_list.append(batch_features_flat)\n",
    "        \n",
    "        print(f\"Processed batch {i//batch_size + 1}/{total_batches}\")\n",
    "    \n",
    "    # Concatenate all batches\n",
    "    features = np.concatenate(features_list)\n",
    "    return features, labels\n",
    "\n",
    "\n",
    "# Process training, validation and test data\n",
    "print(\"Processing training data...\")\n",
    "train_features, train_labels = process_images_in_batches(x_train, y_train)\n",
    "print(\"Processing validation data...\")\n",
    "val_features, val_labels = process_images_in_batches(x_val, y_val)\n",
    "print(\"Processing test data...\")\n",
    "test_features, test_labels = process_images_in_batches(x_test, y_test)\n",
    "\n",
    "# Print shapes to confirm processing worked\n",
    "print(f\"Train features shape: {train_features.shape}, labels shape: {train_labels.shape}\")\n",
    "print(f\"Validation features shape: {val_features.shape}, labels shape: {val_labels.shape}\")\n",
    "print(f\"Test features shape: {test_features.shape}, labels shape: {test_labels.shape}\")"
   ]
  },
  {
   "cell_type": "markdown",
   "id": "fc9ece8b",
   "metadata": {},
   "source": [
    "#### Save features (If you like)"
   ]
  },
  {
   "cell_type": "code",
   "execution_count": null,
   "id": "b9a258c2",
   "metadata": {},
   "outputs": [],
   "source": [
    "# Create a directory to save features\n",
    "os.makedirs(\"saved_features\", exist_ok=True)\n",
    "\n",
    "# Save the processed features\n",
    "np.save(\"saved_features/train_features.npy\", train_features)\n",
    "np.save(\"saved_features/train_labels.npy\", train_labels)\n",
    "np.save(\"saved_features/val_features.npy\", val_features)\n",
    "np.save(\"saved_features/val_labels.npy\", val_labels)\n",
    "np.save(\"saved_features/test_features.npy\", test_features)\n",
    "np.save(\"saved_features/test_labels.npy\", test_labels)\n",
    "\n",
    "print(\"Features and labels saved to disk\")"
   ]
  },
  {
   "cell_type": "markdown",
   "id": "ff38013a",
   "metadata": {},
   "source": [
    "#### Load saved features from hard drive"
   ]
  },
  {
   "cell_type": "code",
   "execution_count": 2,
   "id": "38d30fb0",
   "metadata": {},
   "outputs": [
    {
     "name": "stdout",
     "output_type": "stream",
     "text": [
      "Loading saved features...\n",
      "Train features shape: (40000, 25088), labels shape: (40000, 1)\n",
      "Validation features shape: (10000, 25088), labels shape: (10000, 1)\n",
      "Test features shape: (10000, 25088), labels shape: (10000, 1)\n"
     ]
    }
   ],
   "source": [
    "# Check if saved files exist\n",
    "if os.path.exists(\"saved_features/train_features.npy\"):\n",
    "    print(\"Loading saved features...\")\n",
    "    train_features = np.load(\"saved_features/train_features.npy\")\n",
    "    train_labels = np.load(\"saved_features/train_labels.npy\")\n",
    "    val_features = np.load(\"saved_features/val_features.npy\")\n",
    "    val_labels = np.load(\"saved_features/val_labels.npy\")\n",
    "    test_features = np.load(\"saved_features/test_features.npy\")\n",
    "    test_labels = np.load(\"saved_features/test_labels.npy\")\n",
    "    \n",
    "    print(f\"Train features shape: {train_features.shape}, labels shape: {train_labels.shape}\")\n",
    "    print(f\"Validation features shape: {val_features.shape}, labels shape: {val_labels.shape}\")\n",
    "    print(f\"Test features shape: {test_features.shape}, labels shape: {test_labels.shape}\")\n",
    "else:\n",
    "    print(\"No saved features found. Run the feature extraction first.\")"
   ]
  },
  {
   "cell_type": "markdown",
   "id": "13133f0f",
   "metadata": {},
   "source": [
    "#### Dense layers build"
   ]
  },
  {
   "cell_type": "code",
   "execution_count": 3,
   "id": "49d92c01",
   "metadata": {},
   "outputs": [
    {
     "data": {
      "text/html": [
       "<pre style=\"white-space:pre;overflow-x:auto;line-height:normal;font-family:Menlo,'DejaVu Sans Mono',consolas,'Courier New',monospace\"><span style=\"font-weight: bold\">Model: \"functional\"</span>\n",
       "</pre>\n"
      ],
      "text/plain": [
       "\u001b[1mModel: \"functional\"\u001b[0m\n"
      ]
     },
     "metadata": {},
     "output_type": "display_data"
    },
    {
     "data": {
      "text/html": [
       "<pre style=\"white-space:pre;overflow-x:auto;line-height:normal;font-family:Menlo,'DejaVu Sans Mono',consolas,'Courier New',monospace\">┏━━━━━━━━━━━━━━━━━━━━━━━━━━━━━━━━━━━━━━┳━━━━━━━━━━━━━━━━━━━━━━━━━━━━━┳━━━━━━━━━━━━━━━━━┓\n",
       "┃<span style=\"font-weight: bold\"> Layer (type)                         </span>┃<span style=\"font-weight: bold\"> Output Shape                </span>┃<span style=\"font-weight: bold\">         Param # </span>┃\n",
       "┡━━━━━━━━━━━━━━━━━━━━━━━━━━━━━━━━━━━━━━╇━━━━━━━━━━━━━━━━━━━━━━━━━━━━━╇━━━━━━━━━━━━━━━━━┩\n",
       "│ input_layer (<span style=\"color: #0087ff; text-decoration-color: #0087ff\">InputLayer</span>)             │ (<span style=\"color: #00d7ff; text-decoration-color: #00d7ff\">None</span>, <span style=\"color: #00af00; text-decoration-color: #00af00\">25088</span>)               │               <span style=\"color: #00af00; text-decoration-color: #00af00\">0</span> │\n",
       "├──────────────────────────────────────┼─────────────────────────────┼─────────────────┤\n",
       "│ dense (<span style=\"color: #0087ff; text-decoration-color: #0087ff\">Dense</span>)                        │ (<span style=\"color: #00d7ff; text-decoration-color: #00d7ff\">None</span>, <span style=\"color: #00af00; text-decoration-color: #00af00\">256</span>)                 │       <span style=\"color: #00af00; text-decoration-color: #00af00\">6,422,784</span> │\n",
       "├──────────────────────────────────────┼─────────────────────────────┼─────────────────┤\n",
       "│ batch_normalization                  │ (<span style=\"color: #00d7ff; text-decoration-color: #00d7ff\">None</span>, <span style=\"color: #00af00; text-decoration-color: #00af00\">256</span>)                 │           <span style=\"color: #00af00; text-decoration-color: #00af00\">1,024</span> │\n",
       "│ (<span style=\"color: #0087ff; text-decoration-color: #0087ff\">BatchNormalization</span>)                 │                             │                 │\n",
       "├──────────────────────────────────────┼─────────────────────────────┼─────────────────┤\n",
       "│ dropout (<span style=\"color: #0087ff; text-decoration-color: #0087ff\">Dropout</span>)                    │ (<span style=\"color: #00d7ff; text-decoration-color: #00d7ff\">None</span>, <span style=\"color: #00af00; text-decoration-color: #00af00\">256</span>)                 │               <span style=\"color: #00af00; text-decoration-color: #00af00\">0</span> │\n",
       "├──────────────────────────────────────┼─────────────────────────────┼─────────────────┤\n",
       "│ dense_1 (<span style=\"color: #0087ff; text-decoration-color: #0087ff\">Dense</span>)                      │ (<span style=\"color: #00d7ff; text-decoration-color: #00d7ff\">None</span>, <span style=\"color: #00af00; text-decoration-color: #00af00\">128</span>)                 │          <span style=\"color: #00af00; text-decoration-color: #00af00\">32,896</span> │\n",
       "├──────────────────────────────────────┼─────────────────────────────┼─────────────────┤\n",
       "│ dropout_1 (<span style=\"color: #0087ff; text-decoration-color: #0087ff\">Dropout</span>)                  │ (<span style=\"color: #00d7ff; text-decoration-color: #00d7ff\">None</span>, <span style=\"color: #00af00; text-decoration-color: #00af00\">128</span>)                 │               <span style=\"color: #00af00; text-decoration-color: #00af00\">0</span> │\n",
       "├──────────────────────────────────────┼─────────────────────────────┼─────────────────┤\n",
       "│ dense_2 (<span style=\"color: #0087ff; text-decoration-color: #0087ff\">Dense</span>)                      │ (<span style=\"color: #00d7ff; text-decoration-color: #00d7ff\">None</span>, <span style=\"color: #00af00; text-decoration-color: #00af00\">32</span>)                  │           <span style=\"color: #00af00; text-decoration-color: #00af00\">4,128</span> │\n",
       "├──────────────────────────────────────┼─────────────────────────────┼─────────────────┤\n",
       "│ dropout_2 (<span style=\"color: #0087ff; text-decoration-color: #0087ff\">Dropout</span>)                  │ (<span style=\"color: #00d7ff; text-decoration-color: #00d7ff\">None</span>, <span style=\"color: #00af00; text-decoration-color: #00af00\">32</span>)                  │               <span style=\"color: #00af00; text-decoration-color: #00af00\">0</span> │\n",
       "├──────────────────────────────────────┼─────────────────────────────┼─────────────────┤\n",
       "│ dense_3 (<span style=\"color: #0087ff; text-decoration-color: #0087ff\">Dense</span>)                      │ (<span style=\"color: #00d7ff; text-decoration-color: #00d7ff\">None</span>, <span style=\"color: #00af00; text-decoration-color: #00af00\">10</span>)                  │             <span style=\"color: #00af00; text-decoration-color: #00af00\">330</span> │\n",
       "└──────────────────────────────────────┴─────────────────────────────┴─────────────────┘\n",
       "</pre>\n"
      ],
      "text/plain": [
       "┏━━━━━━━━━━━━━━━━━━━━━━━━━━━━━━━━━━━━━━┳━━━━━━━━━━━━━━━━━━━━━━━━━━━━━┳━━━━━━━━━━━━━━━━━┓\n",
       "┃\u001b[1m \u001b[0m\u001b[1mLayer (type)                        \u001b[0m\u001b[1m \u001b[0m┃\u001b[1m \u001b[0m\u001b[1mOutput Shape               \u001b[0m\u001b[1m \u001b[0m┃\u001b[1m \u001b[0m\u001b[1m        Param #\u001b[0m\u001b[1m \u001b[0m┃\n",
       "┡━━━━━━━━━━━━━━━━━━━━━━━━━━━━━━━━━━━━━━╇━━━━━━━━━━━━━━━━━━━━━━━━━━━━━╇━━━━━━━━━━━━━━━━━┩\n",
       "│ input_layer (\u001b[38;5;33mInputLayer\u001b[0m)             │ (\u001b[38;5;45mNone\u001b[0m, \u001b[38;5;34m25088\u001b[0m)               │               \u001b[38;5;34m0\u001b[0m │\n",
       "├──────────────────────────────────────┼─────────────────────────────┼─────────────────┤\n",
       "│ dense (\u001b[38;5;33mDense\u001b[0m)                        │ (\u001b[38;5;45mNone\u001b[0m, \u001b[38;5;34m256\u001b[0m)                 │       \u001b[38;5;34m6,422,784\u001b[0m │\n",
       "├──────────────────────────────────────┼─────────────────────────────┼─────────────────┤\n",
       "│ batch_normalization                  │ (\u001b[38;5;45mNone\u001b[0m, \u001b[38;5;34m256\u001b[0m)                 │           \u001b[38;5;34m1,024\u001b[0m │\n",
       "│ (\u001b[38;5;33mBatchNormalization\u001b[0m)                 │                             │                 │\n",
       "├──────────────────────────────────────┼─────────────────────────────┼─────────────────┤\n",
       "│ dropout (\u001b[38;5;33mDropout\u001b[0m)                    │ (\u001b[38;5;45mNone\u001b[0m, \u001b[38;5;34m256\u001b[0m)                 │               \u001b[38;5;34m0\u001b[0m │\n",
       "├──────────────────────────────────────┼─────────────────────────────┼─────────────────┤\n",
       "│ dense_1 (\u001b[38;5;33mDense\u001b[0m)                      │ (\u001b[38;5;45mNone\u001b[0m, \u001b[38;5;34m128\u001b[0m)                 │          \u001b[38;5;34m32,896\u001b[0m │\n",
       "├──────────────────────────────────────┼─────────────────────────────┼─────────────────┤\n",
       "│ dropout_1 (\u001b[38;5;33mDropout\u001b[0m)                  │ (\u001b[38;5;45mNone\u001b[0m, \u001b[38;5;34m128\u001b[0m)                 │               \u001b[38;5;34m0\u001b[0m │\n",
       "├──────────────────────────────────────┼─────────────────────────────┼─────────────────┤\n",
       "│ dense_2 (\u001b[38;5;33mDense\u001b[0m)                      │ (\u001b[38;5;45mNone\u001b[0m, \u001b[38;5;34m32\u001b[0m)                  │           \u001b[38;5;34m4,128\u001b[0m │\n",
       "├──────────────────────────────────────┼─────────────────────────────┼─────────────────┤\n",
       "│ dropout_2 (\u001b[38;5;33mDropout\u001b[0m)                  │ (\u001b[38;5;45mNone\u001b[0m, \u001b[38;5;34m32\u001b[0m)                  │               \u001b[38;5;34m0\u001b[0m │\n",
       "├──────────────────────────────────────┼─────────────────────────────┼─────────────────┤\n",
       "│ dense_3 (\u001b[38;5;33mDense\u001b[0m)                      │ (\u001b[38;5;45mNone\u001b[0m, \u001b[38;5;34m10\u001b[0m)                  │             \u001b[38;5;34m330\u001b[0m │\n",
       "└──────────────────────────────────────┴─────────────────────────────┴─────────────────┘\n"
      ]
     },
     "metadata": {},
     "output_type": "display_data"
    },
    {
     "data": {
      "text/html": [
       "<pre style=\"white-space:pre;overflow-x:auto;line-height:normal;font-family:Menlo,'DejaVu Sans Mono',consolas,'Courier New',monospace\"><span style=\"font-weight: bold\"> Total params: </span><span style=\"color: #00af00; text-decoration-color: #00af00\">6,461,162</span> (24.65 MB)\n",
       "</pre>\n"
      ],
      "text/plain": [
       "\u001b[1m Total params: \u001b[0m\u001b[38;5;34m6,461,162\u001b[0m (24.65 MB)\n"
      ]
     },
     "metadata": {},
     "output_type": "display_data"
    },
    {
     "data": {
      "text/html": [
       "<pre style=\"white-space:pre;overflow-x:auto;line-height:normal;font-family:Menlo,'DejaVu Sans Mono',consolas,'Courier New',monospace\"><span style=\"font-weight: bold\"> Trainable params: </span><span style=\"color: #00af00; text-decoration-color: #00af00\">6,460,650</span> (24.65 MB)\n",
       "</pre>\n"
      ],
      "text/plain": [
       "\u001b[1m Trainable params: \u001b[0m\u001b[38;5;34m6,460,650\u001b[0m (24.65 MB)\n"
      ]
     },
     "metadata": {},
     "output_type": "display_data"
    },
    {
     "data": {
      "text/html": [
       "<pre style=\"white-space:pre;overflow-x:auto;line-height:normal;font-family:Menlo,'DejaVu Sans Mono',consolas,'Courier New',monospace\"><span style=\"font-weight: bold\"> Non-trainable params: </span><span style=\"color: #00af00; text-decoration-color: #00af00\">512</span> (2.00 KB)\n",
       "</pre>\n"
      ],
      "text/plain": [
       "\u001b[1m Non-trainable params: \u001b[0m\u001b[38;5;34m512\u001b[0m (2.00 KB)\n"
      ]
     },
     "metadata": {},
     "output_type": "display_data"
    }
   ],
   "source": [
    "from keras.layers import Dense, Dropout, Input, BatchNormalization, RandomFlip, RandomRotation, RandomZoom\n",
    "from keras import Sequential\n",
    "from keras.optimizers import Adam\n",
    "from keras import Model\n",
    "\n",
    "# One-hot encode the labels\n",
    "train_labels_one_hot = to_categorical(train_labels, num_classes=10)\n",
    "val_labels_one_hot = to_categorical(val_labels, num_classes=10)\n",
    "test_labels_one_hot = to_categorical(test_labels, num_classes=10)\n",
    "\n",
    "# Define layers\n",
    "inputs = Input(shape=(train_features.shape[1],))\n",
    "x = Dense(256, activation='relu')(inputs)\n",
    "x = BatchNormalization()(x)\n",
    "x = Dropout(0.5)(x)\n",
    "x = Dense(128, activation='relu')(x)\n",
    "x = Dropout(0.2)(x)\n",
    "x = Dense(32, activation='relu')(x)\n",
    "x = Dropout(0.1)(x)\n",
    "outputs = Dense(10, activation='softmax')(x)\n",
    "\n",
    "# Add inputs and outputs to model\n",
    "dense_model = Model(inputs=inputs, outputs=outputs)\n",
    "\n",
    "# Compile model and print summary\n",
    "dense_model.compile(optimizer=Adam(), loss='categorical_crossentropy', metrics=['accuracy'])\n",
    "dense_model.summary()"
   ]
  },
  {
   "cell_type": "code",
   "execution_count": 4,
   "id": "fa3a5ab1",
   "metadata": {},
   "outputs": [
    {
     "name": "stdout",
     "output_type": "stream",
     "text": [
      "Epoch 1/50\n",
      "\u001b[1m2500/2500\u001b[0m \u001b[32m━━━━━━━━━━━━━━━━━━━━\u001b[0m\u001b[37m\u001b[0m \u001b[1m100s\u001b[0m 39ms/step - accuracy: 0.6775 - loss: 0.9691 - val_accuracy: 0.8779 - val_loss: 0.3876 - learning_rate: 0.0010\n",
      "Epoch 2/50\n",
      "\u001b[1m2500/2500\u001b[0m \u001b[32m━━━━━━━━━━━━━━━━━━━━\u001b[0m\u001b[37m\u001b[0m \u001b[1m98s\u001b[0m 39ms/step - accuracy: 0.8505 - loss: 0.4551 - val_accuracy: 0.8825 - val_loss: 0.3638 - learning_rate: 0.0010\n",
      "Epoch 3/50\n",
      "\u001b[1m2500/2500\u001b[0m \u001b[32m━━━━━━━━━━━━━━━━━━━━\u001b[0m\u001b[37m\u001b[0m \u001b[1m98s\u001b[0m 39ms/step - accuracy: 0.8816 - loss: 0.3585 - val_accuracy: 0.8825 - val_loss: 0.3611 - learning_rate: 0.0010\n",
      "Epoch 4/50\n",
      "\u001b[1m2500/2500\u001b[0m \u001b[32m━━━━━━━━━━━━━━━━━━━━\u001b[0m\u001b[37m\u001b[0m \u001b[1m98s\u001b[0m 39ms/step - accuracy: 0.9040 - loss: 0.2994 - val_accuracy: 0.8877 - val_loss: 0.3511 - learning_rate: 0.0010\n",
      "Epoch 5/50\n",
      "\u001b[1m2500/2500\u001b[0m \u001b[32m━━━━━━━━━━━━━━━━━━━━\u001b[0m\u001b[37m\u001b[0m \u001b[1m98s\u001b[0m 39ms/step - accuracy: 0.9222 - loss: 0.2419 - val_accuracy: 0.8832 - val_loss: 0.3914 - learning_rate: 0.0010\n",
      "Epoch 6/50\n",
      "\u001b[1m2500/2500\u001b[0m \u001b[32m━━━━━━━━━━━━━━━━━━━━\u001b[0m\u001b[37m\u001b[0m \u001b[1m98s\u001b[0m 39ms/step - accuracy: 0.9261 - loss: 0.2257 - val_accuracy: 0.8879 - val_loss: 0.4190 - learning_rate: 0.0010\n",
      "Epoch 7/50\n",
      "\u001b[1m2500/2500\u001b[0m \u001b[32m━━━━━━━━━━━━━━━━━━━━\u001b[0m\u001b[37m\u001b[0m \u001b[1m98s\u001b[0m 39ms/step - accuracy: 0.9407 - loss: 0.1849 - val_accuracy: 0.8860 - val_loss: 0.4416 - learning_rate: 0.0010\n",
      "Epoch 8/50\n",
      "\u001b[1m2500/2500\u001b[0m \u001b[32m━━━━━━━━━━━━━━━━━━━━\u001b[0m\u001b[37m\u001b[0m \u001b[1m99s\u001b[0m 40ms/step - accuracy: 0.9486 - loss: 0.1623 - val_accuracy: 0.8857 - val_loss: 0.4344 - learning_rate: 0.0010\n",
      "Epoch 9/50\n",
      "\u001b[1m2500/2500\u001b[0m \u001b[32m━━━━━━━━━━━━━━━━━━━━\u001b[0m\u001b[37m\u001b[0m \u001b[1m98s\u001b[0m 39ms/step - accuracy: 0.9521 - loss: 0.1523 - val_accuracy: 0.8867 - val_loss: 0.4356 - learning_rate: 0.0010\n",
      "Epoch 10/50\n",
      "\u001b[1m2500/2500\u001b[0m \u001b[32m━━━━━━━━━━━━━━━━━━━━\u001b[0m\u001b[37m\u001b[0m \u001b[1m98s\u001b[0m 39ms/step - accuracy: 0.9625 - loss: 0.1151 - val_accuracy: 0.8940 - val_loss: 0.4412 - learning_rate: 2.0000e-04\n",
      "Epoch 11/50\n",
      "\u001b[1m2500/2500\u001b[0m \u001b[32m━━━━━━━━━━━━━━━━━━━━\u001b[0m\u001b[37m\u001b[0m \u001b[1m98s\u001b[0m 39ms/step - accuracy: 0.9697 - loss: 0.0951 - val_accuracy: 0.8946 - val_loss: 0.4869 - learning_rate: 2.0000e-04\n",
      "Epoch 12/50\n",
      "\u001b[1m2500/2500\u001b[0m \u001b[32m━━━━━━━━━━━━━━━━━━━━\u001b[0m\u001b[37m\u001b[0m \u001b[1m98s\u001b[0m 39ms/step - accuracy: 0.9735 - loss: 0.0818 - val_accuracy: 0.8950 - val_loss: 0.4649 - learning_rate: 2.0000e-04\n",
      "Epoch 13/50\n",
      "\u001b[1m2500/2500\u001b[0m \u001b[32m━━━━━━━━━━━━━━━━━━━━\u001b[0m\u001b[37m\u001b[0m \u001b[1m98s\u001b[0m 39ms/step - accuracy: 0.9768 - loss: 0.0702 - val_accuracy: 0.8972 - val_loss: 0.4800 - learning_rate: 2.0000e-04\n",
      "Epoch 14/50\n",
      "\u001b[1m2500/2500\u001b[0m \u001b[32m━━━━━━━━━━━━━━━━━━━━\u001b[0m\u001b[37m\u001b[0m \u001b[1m98s\u001b[0m 39ms/step - accuracy: 0.9786 - loss: 0.0634 - val_accuracy: 0.8972 - val_loss: 0.5038 - learning_rate: 2.0000e-04\n",
      "Epoch 14: early stopping\n",
      "Restoring model weights from the end of the best epoch: 4.\n"
     ]
    }
   ],
   "source": [
    "from keras.callbacks import EarlyStopping, ReduceLROnPlateau\n",
    "\n",
    "# Callback functions\n",
    "early_stop = EarlyStopping(monitor='val_loss', patience=10, restore_best_weights=True, verbose=1)\n",
    "reduce_lr = ReduceLROnPlateau(factor=0.2, patience=5)\n",
    "\n",
    "# Train model\n",
    "history = dense_model.fit(\n",
    "    train_features, train_labels_one_hot,\n",
    "    validation_data=(val_features, val_labels_one_hot),\n",
    "    epochs=50,\n",
    "    batch_size=16,\n",
    "    verbose=1,\n",
    "    callbacks=[early_stop, reduce_lr]\n",
    ")"
   ]
  },
  {
   "cell_type": "markdown",
   "id": "b12a2ea3",
   "metadata": {},
   "source": [
    "#### Evaluation and Statistics"
   ]
  },
  {
   "cell_type": "code",
   "execution_count": 5,
   "id": "96d8d525",
   "metadata": {},
   "outputs": [
    {
     "name": "stdout",
     "output_type": "stream",
     "text": [
      "\u001b[1m313/313\u001b[0m \u001b[32m━━━━━━━━━━━━━━━━━━━━\u001b[0m\u001b[37m\u001b[0m \u001b[1m1s\u001b[0m 4ms/step - accuracy: 0.8743 - loss: 0.3921\n",
      "Feature extractor model test loss: 0.38\n",
      "Feature extractor model test accuracy: 0.88\n"
     ]
    },
    {
     "data": {
      "image/png": "[encoded data removed]",
      "text/plain": [
       "<Figure size 640x480 with 2 Axes>"
      ]
     },
     "metadata": {},
     "output_type": "display_data"
    }
   ],
   "source": [
    "import matplotlib.pyplot as plt\n",
    "\n",
    "# Plot loss graph\n",
    "plt.subplot(1, 2, 1)\n",
    "plt.plot(history.history['loss'], label='Train loss')\n",
    "plt.plot(history.history['val_loss'], label='Validation loss')\n",
    "plt.title('Model loss')\n",
    "plt.xlabel('Epochs')\n",
    "plt.ylabel('Loss')\n",
    "plt.legend()\n",
    "\n",
    "# Plot accuracy graph\n",
    "plt.subplot(1, 2, 2)\n",
    "plt.plot(history.history['accuracy'], label='Train accuracy')\n",
    "plt.plot(history.history['val_accuracy'], label='Validation accuracy')\n",
    "plt.title('Model accuracy')\n",
    "plt.xlabel('Epochs')\n",
    "plt.ylabel('Accuracy')\n",
    "plt.legend()\n",
    "\n",
    "# Test model with test data\n",
    "test_loss, test_acc = dense_model.evaluate(test_features, test_labels_one_hot, verbose=1)\n",
    "print(f\"Feature extractor model test loss: {test_loss:.2f}\")\n",
    "print(f\"Feature extractor model test accuracy: {test_acc:.2f}\")"
   ]
  },
  {
   "cell_type": "markdown",
   "id": "b76b2649",
   "metadata": {},
   "source": [
    "#### Summary\n",
    "\n",
    "I chose VGG16 pre trained model for my base model to this assignment, because it is top 5 model in accuracy and it has ~138 million parameters and relatively small inference time per step when calculated with CPU (69.5 ms).\n",
    "\n",
    "- First test gave me test loss of 0.55 and test accuracy of 85% with two Dense layers using relu and two Dropout layers.\n",
    "- Second test gave me test loss of 0.38 and test accuracy of 88%. I only added Batchnormalization layer to Dense model.\n",
    "- In third test I tried to up Dropout from 0.1 and 0.2 to 0.3 and 0.2, test gave me scores of test lost 0.3907 and test accuracy 87.31%.\n",
    "- Fourth test gave me test loss of 0.3855  and test accuracy of 87%. I changed neurons from 64 in first Dense layer to 128 neurons.\n",
    "- Last test gave test loss of 0.38 and test accuracy 88% when I doubled neurons in first layer and added one more Dropout and Dense layer.\n",
    "\n",
    "Already with pretty basic dense layers this model was performing quite good and with couple of small tweaks here and there I got model to perform even better. I could adjust it more to try to get model test accuracy to hit 90% mark, but that would take some serious time."
   ]
  }
 ],
 "metadata": {
  "kernelspec": {
   "display_name": "Python 3 (ipykernel)",
   "language": "python",
   "name": "python3"
  }
 },
 "nbformat": 4,
 "nbformat_minor": 5
}
